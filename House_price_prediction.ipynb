{
 "cells": [
  {
   "cell_type": "code",
   "execution_count": 158,
   "id": "a400d4a6",
   "metadata": {},
   "outputs": [],
   "source": [
    "import numpy as np\n",
    "import pandas as pd\n",
    "import matplotlib.pyplot as plt\n",
    "import seaborn as sns"
   ]
  },
  {
   "cell_type": "code",
   "execution_count": 159,
   "id": "8be702f9",
   "metadata": {},
   "outputs": [],
   "source": [
    "train = pd.read_csv(\"train.csv\")"
   ]
  },
  {
   "cell_type": "code",
   "execution_count": 160,
   "id": "e40c4325",
   "metadata": {},
   "outputs": [
    {
     "name": "stdout",
     "output_type": "stream",
     "text": [
      "<class 'pandas.core.frame.DataFrame'>\n",
      "RangeIndex: 1460 entries, 0 to 1459\n",
      "Data columns (total 81 columns):\n",
      " #   Column         Non-Null Count  Dtype  \n",
      "---  ------         --------------  -----  \n",
      " 0   Id             1460 non-null   int64  \n",
      " 1   MSSubClass     1460 non-null   int64  \n",
      " 2   MSZoning       1460 non-null   object \n",
      " 3   LotFrontage    1201 non-null   float64\n",
      " 4   LotArea        1460 non-null   int64  \n",
      " 5   Street         1460 non-null   object \n",
      " 6   Alley          91 non-null     object \n",
      " 7   LotShape       1460 non-null   object \n",
      " 8   LandContour    1460 non-null   object \n",
      " 9   Utilities      1460 non-null   object \n",
      " 10  LotConfig      1460 non-null   object \n",
      " 11  LandSlope      1460 non-null   object \n",
      " 12  Neighborhood   1460 non-null   object \n",
      " 13  Condition1     1460 non-null   object \n",
      " 14  Condition2     1460 non-null   object \n",
      " 15  BldgType       1460 non-null   object \n",
      " 16  HouseStyle     1460 non-null   object \n",
      " 17  OverallQual    1460 non-null   int64  \n",
      " 18  OverallCond    1460 non-null   int64  \n",
      " 19  YearBuilt      1460 non-null   int64  \n",
      " 20  YearRemodAdd   1460 non-null   int64  \n",
      " 21  RoofStyle      1460 non-null   object \n",
      " 22  RoofMatl       1460 non-null   object \n",
      " 23  Exterior1st    1460 non-null   object \n",
      " 24  Exterior2nd    1460 non-null   object \n",
      " 25  MasVnrType     1452 non-null   object \n",
      " 26  MasVnrArea     1452 non-null   float64\n",
      " 27  ExterQual      1460 non-null   object \n",
      " 28  ExterCond      1460 non-null   object \n",
      " 29  Foundation     1460 non-null   object \n",
      " 30  BsmtQual       1423 non-null   object \n",
      " 31  BsmtCond       1423 non-null   object \n",
      " 32  BsmtExposure   1422 non-null   object \n",
      " 33  BsmtFinType1   1423 non-null   object \n",
      " 34  BsmtFinSF1     1460 non-null   int64  \n",
      " 35  BsmtFinType2   1422 non-null   object \n",
      " 36  BsmtFinSF2     1460 non-null   int64  \n",
      " 37  BsmtUnfSF      1460 non-null   int64  \n",
      " 38  TotalBsmtSF    1460 non-null   int64  \n",
      " 39  Heating        1460 non-null   object \n",
      " 40  HeatingQC      1460 non-null   object \n",
      " 41  CentralAir     1460 non-null   object \n",
      " 42  Electrical     1459 non-null   object \n",
      " 43  1stFlrSF       1460 non-null   int64  \n",
      " 44  2ndFlrSF       1460 non-null   int64  \n",
      " 45  LowQualFinSF   1460 non-null   int64  \n",
      " 46  GrLivArea      1460 non-null   int64  \n",
      " 47  BsmtFullBath   1460 non-null   int64  \n",
      " 48  BsmtHalfBath   1460 non-null   int64  \n",
      " 49  FullBath       1460 non-null   int64  \n",
      " 50  HalfBath       1460 non-null   int64  \n",
      " 51  BedroomAbvGr   1460 non-null   int64  \n",
      " 52  KitchenAbvGr   1460 non-null   int64  \n",
      " 53  KitchenQual    1460 non-null   object \n",
      " 54  TotRmsAbvGrd   1460 non-null   int64  \n",
      " 55  Functional     1460 non-null   object \n",
      " 56  Fireplaces     1460 non-null   int64  \n",
      " 57  FireplaceQu    770 non-null    object \n",
      " 58  GarageType     1379 non-null   object \n",
      " 59  GarageYrBlt    1379 non-null   float64\n",
      " 60  GarageFinish   1379 non-null   object \n",
      " 61  GarageCars     1460 non-null   int64  \n",
      " 62  GarageArea     1460 non-null   int64  \n",
      " 63  GarageQual     1379 non-null   object \n",
      " 64  GarageCond     1379 non-null   object \n",
      " 65  PavedDrive     1460 non-null   object \n",
      " 66  WoodDeckSF     1460 non-null   int64  \n",
      " 67  OpenPorchSF    1460 non-null   int64  \n",
      " 68  EnclosedPorch  1460 non-null   int64  \n",
      " 69  3SsnPorch      1460 non-null   int64  \n",
      " 70  ScreenPorch    1460 non-null   int64  \n",
      " 71  PoolArea       1460 non-null   int64  \n",
      " 72  PoolQC         7 non-null      object \n",
      " 73  Fence          281 non-null    object \n",
      " 74  MiscFeature    54 non-null     object \n",
      " 75  MiscVal        1460 non-null   int64  \n",
      " 76  MoSold         1460 non-null   int64  \n",
      " 77  YrSold         1460 non-null   int64  \n",
      " 78  SaleType       1460 non-null   object \n",
      " 79  SaleCondition  1460 non-null   object \n",
      " 80  SalePrice      1460 non-null   int64  \n",
      "dtypes: float64(3), int64(35), object(43)\n",
      "memory usage: 924.0+ KB\n"
     ]
    }
   ],
   "source": [
    "train.describe()\n",
    "train.info()"
   ]
  },
  {
   "cell_type": "code",
   "execution_count": 161,
   "id": "832834b4",
   "metadata": {},
   "outputs": [
    {
     "data": {
      "text/html": [
       "<div>\n",
       "<style scoped>\n",
       "    .dataframe tbody tr th:only-of-type {\n",
       "        vertical-align: middle;\n",
       "    }\n",
       "\n",
       "    .dataframe tbody tr th {\n",
       "        vertical-align: top;\n",
       "    }\n",
       "\n",
       "    .dataframe thead th {\n",
       "        text-align: right;\n",
       "    }\n",
       "</style>\n",
       "<table border=\"1\" class=\"dataframe\">\n",
       "  <thead>\n",
       "    <tr style=\"text-align: right;\">\n",
       "      <th></th>\n",
       "      <th>Id</th>\n",
       "      <th>MSSubClass</th>\n",
       "      <th>MSZoning</th>\n",
       "      <th>LotFrontage</th>\n",
       "      <th>LotArea</th>\n",
       "      <th>Street</th>\n",
       "      <th>Alley</th>\n",
       "      <th>LotShape</th>\n",
       "      <th>LandContour</th>\n",
       "      <th>Utilities</th>\n",
       "      <th>...</th>\n",
       "      <th>PoolArea</th>\n",
       "      <th>PoolQC</th>\n",
       "      <th>Fence</th>\n",
       "      <th>MiscFeature</th>\n",
       "      <th>MiscVal</th>\n",
       "      <th>MoSold</th>\n",
       "      <th>YrSold</th>\n",
       "      <th>SaleType</th>\n",
       "      <th>SaleCondition</th>\n",
       "      <th>SalePrice</th>\n",
       "    </tr>\n",
       "  </thead>\n",
       "  <tbody>\n",
       "    <tr>\n",
       "      <th>0</th>\n",
       "      <td>1</td>\n",
       "      <td>60</td>\n",
       "      <td>RL</td>\n",
       "      <td>65.0</td>\n",
       "      <td>8450</td>\n",
       "      <td>Pave</td>\n",
       "      <td>NaN</td>\n",
       "      <td>Reg</td>\n",
       "      <td>Lvl</td>\n",
       "      <td>AllPub</td>\n",
       "      <td>...</td>\n",
       "      <td>0</td>\n",
       "      <td>NaN</td>\n",
       "      <td>NaN</td>\n",
       "      <td>NaN</td>\n",
       "      <td>0</td>\n",
       "      <td>2</td>\n",
       "      <td>2008</td>\n",
       "      <td>WD</td>\n",
       "      <td>Normal</td>\n",
       "      <td>208500</td>\n",
       "    </tr>\n",
       "    <tr>\n",
       "      <th>1</th>\n",
       "      <td>2</td>\n",
       "      <td>20</td>\n",
       "      <td>RL</td>\n",
       "      <td>80.0</td>\n",
       "      <td>9600</td>\n",
       "      <td>Pave</td>\n",
       "      <td>NaN</td>\n",
       "      <td>Reg</td>\n",
       "      <td>Lvl</td>\n",
       "      <td>AllPub</td>\n",
       "      <td>...</td>\n",
       "      <td>0</td>\n",
       "      <td>NaN</td>\n",
       "      <td>NaN</td>\n",
       "      <td>NaN</td>\n",
       "      <td>0</td>\n",
       "      <td>5</td>\n",
       "      <td>2007</td>\n",
       "      <td>WD</td>\n",
       "      <td>Normal</td>\n",
       "      <td>181500</td>\n",
       "    </tr>\n",
       "    <tr>\n",
       "      <th>2</th>\n",
       "      <td>3</td>\n",
       "      <td>60</td>\n",
       "      <td>RL</td>\n",
       "      <td>68.0</td>\n",
       "      <td>11250</td>\n",
       "      <td>Pave</td>\n",
       "      <td>NaN</td>\n",
       "      <td>IR1</td>\n",
       "      <td>Lvl</td>\n",
       "      <td>AllPub</td>\n",
       "      <td>...</td>\n",
       "      <td>0</td>\n",
       "      <td>NaN</td>\n",
       "      <td>NaN</td>\n",
       "      <td>NaN</td>\n",
       "      <td>0</td>\n",
       "      <td>9</td>\n",
       "      <td>2008</td>\n",
       "      <td>WD</td>\n",
       "      <td>Normal</td>\n",
       "      <td>223500</td>\n",
       "    </tr>\n",
       "    <tr>\n",
       "      <th>3</th>\n",
       "      <td>4</td>\n",
       "      <td>70</td>\n",
       "      <td>RL</td>\n",
       "      <td>60.0</td>\n",
       "      <td>9550</td>\n",
       "      <td>Pave</td>\n",
       "      <td>NaN</td>\n",
       "      <td>IR1</td>\n",
       "      <td>Lvl</td>\n",
       "      <td>AllPub</td>\n",
       "      <td>...</td>\n",
       "      <td>0</td>\n",
       "      <td>NaN</td>\n",
       "      <td>NaN</td>\n",
       "      <td>NaN</td>\n",
       "      <td>0</td>\n",
       "      <td>2</td>\n",
       "      <td>2006</td>\n",
       "      <td>WD</td>\n",
       "      <td>Abnorml</td>\n",
       "      <td>140000</td>\n",
       "    </tr>\n",
       "    <tr>\n",
       "      <th>4</th>\n",
       "      <td>5</td>\n",
       "      <td>60</td>\n",
       "      <td>RL</td>\n",
       "      <td>84.0</td>\n",
       "      <td>14260</td>\n",
       "      <td>Pave</td>\n",
       "      <td>NaN</td>\n",
       "      <td>IR1</td>\n",
       "      <td>Lvl</td>\n",
       "      <td>AllPub</td>\n",
       "      <td>...</td>\n",
       "      <td>0</td>\n",
       "      <td>NaN</td>\n",
       "      <td>NaN</td>\n",
       "      <td>NaN</td>\n",
       "      <td>0</td>\n",
       "      <td>12</td>\n",
       "      <td>2008</td>\n",
       "      <td>WD</td>\n",
       "      <td>Normal</td>\n",
       "      <td>250000</td>\n",
       "    </tr>\n",
       "  </tbody>\n",
       "</table>\n",
       "<p>5 rows × 81 columns</p>\n",
       "</div>"
      ],
      "text/plain": [
       "   Id  MSSubClass MSZoning  LotFrontage  LotArea Street Alley LotShape  \\\n",
       "0   1          60       RL         65.0     8450   Pave   NaN      Reg   \n",
       "1   2          20       RL         80.0     9600   Pave   NaN      Reg   \n",
       "2   3          60       RL         68.0    11250   Pave   NaN      IR1   \n",
       "3   4          70       RL         60.0     9550   Pave   NaN      IR1   \n",
       "4   5          60       RL         84.0    14260   Pave   NaN      IR1   \n",
       "\n",
       "  LandContour Utilities  ... PoolArea PoolQC Fence MiscFeature MiscVal MoSold  \\\n",
       "0         Lvl    AllPub  ...        0    NaN   NaN         NaN       0      2   \n",
       "1         Lvl    AllPub  ...        0    NaN   NaN         NaN       0      5   \n",
       "2         Lvl    AllPub  ...        0    NaN   NaN         NaN       0      9   \n",
       "3         Lvl    AllPub  ...        0    NaN   NaN         NaN       0      2   \n",
       "4         Lvl    AllPub  ...        0    NaN   NaN         NaN       0     12   \n",
       "\n",
       "  YrSold  SaleType  SaleCondition  SalePrice  \n",
       "0   2008        WD         Normal     208500  \n",
       "1   2007        WD         Normal     181500  \n",
       "2   2008        WD         Normal     223500  \n",
       "3   2006        WD        Abnorml     140000  \n",
       "4   2008        WD         Normal     250000  \n",
       "\n",
       "[5 rows x 81 columns]"
      ]
     },
     "execution_count": 161,
     "metadata": {},
     "output_type": "execute_result"
    }
   ],
   "source": [
    "train.head()"
   ]
  },
  {
   "cell_type": "code",
   "execution_count": 162,
   "id": "9bc895b2",
   "metadata": {},
   "outputs": [
    {
     "data": {
      "text/plain": [
       "(1460, 81)"
      ]
     },
     "execution_count": 162,
     "metadata": {},
     "output_type": "execute_result"
    }
   ],
   "source": [
    "train.shape"
   ]
  },
  {
   "cell_type": "code",
   "execution_count": 163,
   "id": "9576b051",
   "metadata": {},
   "outputs": [
    {
     "name": "stdout",
     "output_type": "stream",
     "text": [
      "['OverallQual' 'YearBuilt' 'YearRemodAdd' 'TotalBsmtSF' '1stFlrSF'\n",
      " 'GrLivArea' 'FullBath' 'TotRmsAbvGrd' 'GarageCars' 'GarageArea'\n",
      " 'SalePrice']\n"
     ]
    }
   ],
   "source": [
    "# feature selection\n",
    "# we select the columns that have more than 0.50 corr with price, as important columns\n",
    "\n",
    "imp_cols = np.array(train.corr()[\"SalePrice\"][(train.corr()[\"SalePrice\"] > 0.50) | (train.corr()[\"SalePrice\"]<-0.50)].index)\n",
    "print(imp_cols)"
   ]
  },
  {
   "cell_type": "code",
   "execution_count": 164,
   "id": "a8b70ee5",
   "metadata": {},
   "outputs": [
    {
     "name": "stdout",
     "output_type": "stream",
     "text": [
      "['OverallQual', 'YearBuilt', 'YearRemodAdd', 'TotalBsmtSF', '1stFlrSF', 'GrLivArea', 'FullBath', 'TotRmsAbvGrd', 'GarageCars', 'GarageArea', 'SalePrice', 'MSZoning', 'Utilities', 'BldgType', 'Heating', 'KitchenQual', 'SaleCondition', 'LandSlope']\n"
     ]
    }
   ],
   "source": [
    "# taking some of the categorical parameters in cat_cols variable\n",
    "cat_cols = [\"MSZoning\", \"Utilities\",\"BldgType\",\"Heating\",\"KitchenQual\",\"SaleCondition\",\"LandSlope\"]\n",
    "important_num_cols = list(train.corr()[\"SalePrice\"][(train.corr()[\"SalePrice\"]>0.50) | (train.corr()[\"SalePrice\"]<-0.50)].index)\n",
    "important_cols = important_num_cols + cat_cols\n",
    "\n",
    "print(important_cols)\n",
    "train = train.reindex(columns=important_cols)\n",
    "train = train[important_cols]"
   ]
  },
  {
   "cell_type": "code",
   "execution_count": 165,
   "id": "ae5e3640",
   "metadata": {},
   "outputs": [],
   "source": [
    "# data visualization\n",
    "# sns.pairplot(train[important_cols])"
   ]
  },
  {
   "cell_type": "code",
   "execution_count": 166,
   "id": "4ba6d02c",
   "metadata": {},
   "outputs": [
    {
     "name": "stdout",
     "output_type": "stream",
     "text": [
      "hi\n"
     ]
    }
   ],
   "source": [
    "X_train = train.drop(\"SalePrice\", axis=1)\n",
    "y_train = train[\"SalePrice\"]\n",
    "print(\"hi\")"
   ]
  },
  {
   "cell_type": "code",
   "execution_count": 167,
   "id": "ab22f1ce",
   "metadata": {},
   "outputs": [],
   "source": [
    "# one hot encoding, to convert categorical data into numerical data\n",
    "X_train = pd.get_dummies(X_train, columns=cat_cols)"
   ]
  },
  {
   "cell_type": "code",
   "execution_count": 168,
   "id": "c01463e0",
   "metadata": {},
   "outputs": [],
   "source": [
    "important_num_cols.remove(\"SalePrice\")"
   ]
  },
  {
   "cell_type": "code",
   "execution_count": 169,
   "id": "32967425",
   "metadata": {},
   "outputs": [],
   "source": [
    "# standardizing the data (converting to normal distribution)\n",
    "\n",
    "from sklearn.preprocessing import StandardScaler\n",
    "scaler = StandardScaler()\n",
    "X_train[important_num_cols] = scaler.fit_transform(X_train[important_num_cols])"
   ]
  },
  {
   "cell_type": "code",
   "execution_count": 170,
   "id": "cca15432",
   "metadata": {},
   "outputs": [
    {
     "data": {
      "text/html": [
       "<div>\n",
       "<style scoped>\n",
       "    .dataframe tbody tr th:only-of-type {\n",
       "        vertical-align: middle;\n",
       "    }\n",
       "\n",
       "    .dataframe tbody tr th {\n",
       "        vertical-align: top;\n",
       "    }\n",
       "\n",
       "    .dataframe thead th {\n",
       "        text-align: right;\n",
       "    }\n",
       "</style>\n",
       "<table border=\"1\" class=\"dataframe\">\n",
       "  <thead>\n",
       "    <tr style=\"text-align: right;\">\n",
       "      <th></th>\n",
       "      <th>OverallQual</th>\n",
       "      <th>YearBuilt</th>\n",
       "      <th>YearRemodAdd</th>\n",
       "      <th>TotalBsmtSF</th>\n",
       "      <th>1stFlrSF</th>\n",
       "      <th>GrLivArea</th>\n",
       "      <th>FullBath</th>\n",
       "      <th>TotRmsAbvGrd</th>\n",
       "      <th>GarageCars</th>\n",
       "      <th>GarageArea</th>\n",
       "      <th>...</th>\n",
       "      <th>KitchenQual_TA</th>\n",
       "      <th>SaleCondition_Abnorml</th>\n",
       "      <th>SaleCondition_AdjLand</th>\n",
       "      <th>SaleCondition_Alloca</th>\n",
       "      <th>SaleCondition_Family</th>\n",
       "      <th>SaleCondition_Normal</th>\n",
       "      <th>SaleCondition_Partial</th>\n",
       "      <th>LandSlope_Gtl</th>\n",
       "      <th>LandSlope_Mod</th>\n",
       "      <th>LandSlope_Sev</th>\n",
       "    </tr>\n",
       "  </thead>\n",
       "  <tbody>\n",
       "    <tr>\n",
       "      <th>0</th>\n",
       "      <td>0.651479</td>\n",
       "      <td>1.050994</td>\n",
       "      <td>0.878668</td>\n",
       "      <td>-0.459303</td>\n",
       "      <td>-0.793434</td>\n",
       "      <td>0.370333</td>\n",
       "      <td>0.789741</td>\n",
       "      <td>0.912210</td>\n",
       "      <td>0.311725</td>\n",
       "      <td>0.351000</td>\n",
       "      <td>...</td>\n",
       "      <td>0</td>\n",
       "      <td>0</td>\n",
       "      <td>0</td>\n",
       "      <td>0</td>\n",
       "      <td>0</td>\n",
       "      <td>1</td>\n",
       "      <td>0</td>\n",
       "      <td>1</td>\n",
       "      <td>0</td>\n",
       "      <td>0</td>\n",
       "    </tr>\n",
       "    <tr>\n",
       "      <th>1</th>\n",
       "      <td>-0.071836</td>\n",
       "      <td>0.156734</td>\n",
       "      <td>-0.429577</td>\n",
       "      <td>0.466465</td>\n",
       "      <td>0.257140</td>\n",
       "      <td>-0.482512</td>\n",
       "      <td>0.789741</td>\n",
       "      <td>-0.318683</td>\n",
       "      <td>0.311725</td>\n",
       "      <td>-0.060731</td>\n",
       "      <td>...</td>\n",
       "      <td>1</td>\n",
       "      <td>0</td>\n",
       "      <td>0</td>\n",
       "      <td>0</td>\n",
       "      <td>0</td>\n",
       "      <td>1</td>\n",
       "      <td>0</td>\n",
       "      <td>1</td>\n",
       "      <td>0</td>\n",
       "      <td>0</td>\n",
       "    </tr>\n",
       "    <tr>\n",
       "      <th>2</th>\n",
       "      <td>0.651479</td>\n",
       "      <td>0.984752</td>\n",
       "      <td>0.830215</td>\n",
       "      <td>-0.313369</td>\n",
       "      <td>-0.627826</td>\n",
       "      <td>0.515013</td>\n",
       "      <td>0.789741</td>\n",
       "      <td>-0.318683</td>\n",
       "      <td>0.311725</td>\n",
       "      <td>0.631726</td>\n",
       "      <td>...</td>\n",
       "      <td>0</td>\n",
       "      <td>0</td>\n",
       "      <td>0</td>\n",
       "      <td>0</td>\n",
       "      <td>0</td>\n",
       "      <td>1</td>\n",
       "      <td>0</td>\n",
       "      <td>1</td>\n",
       "      <td>0</td>\n",
       "      <td>0</td>\n",
       "    </tr>\n",
       "    <tr>\n",
       "      <th>3</th>\n",
       "      <td>0.651479</td>\n",
       "      <td>-1.863632</td>\n",
       "      <td>-0.720298</td>\n",
       "      <td>-0.687324</td>\n",
       "      <td>-0.521734</td>\n",
       "      <td>0.383659</td>\n",
       "      <td>-1.026041</td>\n",
       "      <td>0.296763</td>\n",
       "      <td>1.650307</td>\n",
       "      <td>0.790804</td>\n",
       "      <td>...</td>\n",
       "      <td>0</td>\n",
       "      <td>1</td>\n",
       "      <td>0</td>\n",
       "      <td>0</td>\n",
       "      <td>0</td>\n",
       "      <td>0</td>\n",
       "      <td>0</td>\n",
       "      <td>1</td>\n",
       "      <td>0</td>\n",
       "      <td>0</td>\n",
       "    </tr>\n",
       "    <tr>\n",
       "      <th>4</th>\n",
       "      <td>1.374795</td>\n",
       "      <td>0.951632</td>\n",
       "      <td>0.733308</td>\n",
       "      <td>0.199680</td>\n",
       "      <td>-0.045611</td>\n",
       "      <td>1.299326</td>\n",
       "      <td>0.789741</td>\n",
       "      <td>1.527656</td>\n",
       "      <td>1.650307</td>\n",
       "      <td>1.698485</td>\n",
       "      <td>...</td>\n",
       "      <td>0</td>\n",
       "      <td>0</td>\n",
       "      <td>0</td>\n",
       "      <td>0</td>\n",
       "      <td>0</td>\n",
       "      <td>1</td>\n",
       "      <td>0</td>\n",
       "      <td>1</td>\n",
       "      <td>0</td>\n",
       "      <td>0</td>\n",
       "    </tr>\n",
       "  </tbody>\n",
       "</table>\n",
       "<p>5 rows × 41 columns</p>\n",
       "</div>"
      ],
      "text/plain": [
       "   OverallQual  YearBuilt  YearRemodAdd  TotalBsmtSF  1stFlrSF  GrLivArea  \\\n",
       "0     0.651479   1.050994      0.878668    -0.459303 -0.793434   0.370333   \n",
       "1    -0.071836   0.156734     -0.429577     0.466465  0.257140  -0.482512   \n",
       "2     0.651479   0.984752      0.830215    -0.313369 -0.627826   0.515013   \n",
       "3     0.651479  -1.863632     -0.720298    -0.687324 -0.521734   0.383659   \n",
       "4     1.374795   0.951632      0.733308     0.199680 -0.045611   1.299326   \n",
       "\n",
       "   FullBath  TotRmsAbvGrd  GarageCars  GarageArea  ...  KitchenQual_TA  \\\n",
       "0  0.789741      0.912210    0.311725    0.351000  ...               0   \n",
       "1  0.789741     -0.318683    0.311725   -0.060731  ...               1   \n",
       "2  0.789741     -0.318683    0.311725    0.631726  ...               0   \n",
       "3 -1.026041      0.296763    1.650307    0.790804  ...               0   \n",
       "4  0.789741      1.527656    1.650307    1.698485  ...               0   \n",
       "\n",
       "   SaleCondition_Abnorml  SaleCondition_AdjLand  SaleCondition_Alloca  \\\n",
       "0                      0                      0                     0   \n",
       "1                      0                      0                     0   \n",
       "2                      0                      0                     0   \n",
       "3                      1                      0                     0   \n",
       "4                      0                      0                     0   \n",
       "\n",
       "   SaleCondition_Family  SaleCondition_Normal  SaleCondition_Partial  \\\n",
       "0                     0                     1                      0   \n",
       "1                     0                     1                      0   \n",
       "2                     0                     1                      0   \n",
       "3                     0                     0                      0   \n",
       "4                     0                     1                      0   \n",
       "\n",
       "   LandSlope_Gtl  LandSlope_Mod  LandSlope_Sev  \n",
       "0              1              0              0  \n",
       "1              1              0              0  \n",
       "2              1              0              0  \n",
       "3              1              0              0  \n",
       "4              1              0              0  \n",
       "\n",
       "[5 rows x 41 columns]"
      ]
     },
     "execution_count": 170,
     "metadata": {},
     "output_type": "execute_result"
    }
   ],
   "source": [
    "# as you can see, standardization is done successfully\n",
    "X_train.head()"
   ]
  },
  {
   "cell_type": "code",
   "execution_count": 171,
   "id": "92c95ef1",
   "metadata": {},
   "outputs": [],
   "source": [
    "# train-test split\n",
    "from sklearn.model_selection import train_test_split\n",
    "X_train, X_test, y_train, y_test = train_test_split(X_train, y_train, test_size = 0.2, random_state=42)"
   ]
  },
  {
   "cell_type": "code",
   "execution_count": 172,
   "id": "b586b7e3",
   "metadata": {},
   "outputs": [],
   "source": [
    "from sklearn.linear_model import LinearRegression\n",
    "linear_model = LinearRegression()\n",
    "linear_model.fit(X_train, y_train)\n",
    "predictions = linear_model.predict(X_test)"
   ]
  },
  {
   "cell_type": "code",
   "execution_count": 173,
   "id": "1df06385",
   "metadata": {},
   "outputs": [],
   "source": [
    "from sklearn.metrics import r2_score, mean_absolute_error, mean_squared_error"
   ]
  },
  {
   "cell_type": "code",
   "execution_count": 174,
   "id": "a5cd7987",
   "metadata": {},
   "outputs": [],
   "source": [
    "mae = mean_absolute_error(y_test, predictions)\n",
    "mse = mean_squared_error(y_test, predictions)\n",
    "rmse = np.sqrt(mse)"
   ]
  },
  {
   "cell_type": "code",
   "execution_count": 175,
   "id": "254c2ab6",
   "metadata": {},
   "outputs": [
    {
     "name": "stdout",
     "output_type": "stream",
     "text": [
      "mae is : 23567.890565943395\n",
      "mse is : 1414931404.6297855\n",
      "rmse is : 37615.573963848874\n"
     ]
    }
   ],
   "source": [
    "print(f'mae is : {mae}')\n",
    "print(f'mse is : {mse}')\n",
    "print(f'rmse is : {rmse}')"
   ]
  },
  {
   "cell_type": "code",
   "execution_count": 176,
   "id": "af3ec6d0",
   "metadata": {},
   "outputs": [
    {
     "name": "stdout",
     "output_type": "stream",
     "text": [
      "(292,) (292,)\n",
      "r2 score is : 0.8155317822983865\n"
     ]
    }
   ],
   "source": [
    "print(y_test.shape, predictions.shape)\n",
    "accuracy = r2_score(y_test, predictions)\n",
    "print(f'r2 score is : {accuracy}')"
   ]
  },
  {
   "cell_type": "code",
   "execution_count": 177,
   "id": "dc254a41",
   "metadata": {},
   "outputs": [],
   "source": [
    "# that was it for the linear model, it gave us an 81.55% accuracy\n",
    "# now we will try lasso regression"
   ]
  },
  {
   "cell_type": "code",
   "execution_count": 178,
   "id": "124bd034",
   "metadata": {},
   "outputs": [],
   "source": [
    "from sklearn.linear_model import Lasso"
   ]
  },
  {
   "cell_type": "code",
   "execution_count": 179,
   "id": "bd1ec807",
   "metadata": {},
   "outputs": [],
   "source": [
    "lasso = Lasso()\n",
    "lasso.fit(X_train, y_train)\n",
    "predictions = lasso.predict(X_test)\n",
    "\n",
    "mae = mean_absolute_error(y_test, predictions)\n",
    "mse = mean_squared_error(y_test, predictions)\n",
    "rmse = np.sqrt(mse)"
   ]
  },
  {
   "cell_type": "code",
   "execution_count": 180,
   "id": "2788332c",
   "metadata": {},
   "outputs": [
    {
     "name": "stdout",
     "output_type": "stream",
     "text": [
      "mae is : 23560.458080272365\n",
      "mse is : 1414337628.5020955\n",
      "rmse is : 37607.6804456496\n"
     ]
    }
   ],
   "source": [
    "print(f'mae is : {mae}')\n",
    "print(f'mse is : {mse}')\n",
    "print(f'rmse is : {rmse}')"
   ]
  },
  {
   "cell_type": "code",
   "execution_count": 181,
   "id": "3e0750c2",
   "metadata": {},
   "outputs": [
    {
     "name": "stdout",
     "output_type": "stream",
     "text": [
      "r2 score is : 0.8156091944072918\n"
     ]
    }
   ],
   "source": [
    "accuracy = r2_score(y_test, predictions)\n",
    "print(f'r2 score is : {accuracy}')"
   ]
  },
  {
   "cell_type": "code",
   "execution_count": 182,
   "id": "658f6f95",
   "metadata": {},
   "outputs": [],
   "source": [
    "# lasso gave us the same accuracy, 81.56\n",
    "# next lets try ridge regression"
   ]
  },
  {
   "cell_type": "code",
   "execution_count": 183,
   "id": "2a91f389",
   "metadata": {},
   "outputs": [],
   "source": [
    "from sklearn.linear_model import Ridge\n",
    "ridge = Ridge()\n",
    "ridge.fit(X_train, y_train)\n",
    "predictions = ridge.predict(X_test)\n",
    "\n",
    "mae = mean_absolute_error(y_test, predictions)\n",
    "mse = mean_squared_error(y_test, predictions)\n",
    "rmse = np.sqrt(mse)"
   ]
  },
  {
   "cell_type": "code",
   "execution_count": 184,
   "id": "d5746ac3",
   "metadata": {},
   "outputs": [
    {
     "name": "stdout",
     "output_type": "stream",
     "text": [
      "mae is : 23435.5037120082\n",
      "mse is : 1404264216.8595576\n",
      "rmse is : 37473.51353769163\n"
     ]
    }
   ],
   "source": [
    "print(f'mae is : {mae}')\n",
    "print(f'mse is : {mse}')\n",
    "print(f'rmse is : {rmse}')"
   ]
  },
  {
   "cell_type": "code",
   "execution_count": 187,
   "id": "abfb0fb7",
   "metadata": {},
   "outputs": [
    {
     "name": "stdout",
     "output_type": "stream",
     "text": [
      "r2 score is : 0.8169224907874509\n"
     ]
    }
   ],
   "source": [
    "accuracy = r2_score(y_test, predictions)\n",
    "print(f'r2 score is : {accuracy}')"
   ]
  },
  {
   "cell_type": "code",
   "execution_count": 188,
   "id": "860e9a55",
   "metadata": {},
   "outputs": [],
   "source": [
    "# ridge gave us slightly better results, at 81.6% accuracy\n",
    "# now lets try elastic net"
   ]
  },
  {
   "cell_type": "code",
   "execution_count": 189,
   "id": "a27d5a7e",
   "metadata": {},
   "outputs": [
    {
     "name": "stdout",
     "output_type": "stream",
     "text": [
      "mae is : 23792.743784996732\n",
      "mse is : 1718445790.1371398\n",
      "rmse is : 41454.140808092256\n"
     ]
    }
   ],
   "source": [
    "from sklearn.linear_model import ElasticNet\n",
    "elastic_net = ElasticNet()\n",
    "elastic_net.fit(X_train, y_train)\n",
    "predictions = elastic_net.predict(X_test)\n",
    "\n",
    "mae = mean_absolute_error(y_test, predictions)\n",
    "mse = mean_squared_error(y_test, predictions)\n",
    "rmse = np.sqrt(mse)\n",
    "\n",
    "print(f'mae is : {mae}')\n",
    "print(f'mse is : {mse}')\n",
    "print(f'rmse is : {rmse}')"
   ]
  },
  {
   "cell_type": "code",
   "execution_count": 190,
   "id": "c5b038b8",
   "metadata": {},
   "outputs": [
    {
     "name": "stdout",
     "output_type": "stream",
     "text": [
      "r2 score is : 0.775961837382229\n"
     ]
    }
   ],
   "source": [
    "accuracy = r2_score(y_test, predictions)\n",
    "print(f'r2 score is : {accuracy}')"
   ]
  },
  {
   "cell_type": "code",
   "execution_count": 191,
   "id": "177f6a97",
   "metadata": {},
   "outputs": [],
   "source": [
    "# elastic net gave us worse results, so we will not consider this for our best model\n",
    "# now we will try support vector machines"
   ]
  },
  {
   "cell_type": "code",
   "execution_count": 192,
   "id": "982b635c",
   "metadata": {},
   "outputs": [
    {
     "name": "stdout",
     "output_type": "stream",
     "text": [
      "mae is : 17843.162280849738\n",
      "mse is : 1132136370.3413308\n",
      "rmse is : 33647.23421533085\n",
      "r2 score is : 0.8524004925265741\n"
     ]
    }
   ],
   "source": [
    "from sklearn.svm import SVR\n",
    "svr = SVR(C=100000)\n",
    "svr.fit(X_train, y_train)\n",
    "predictions = svr.predict(X_test)\n",
    "\n",
    "mae = mean_absolute_error(y_test, predictions)\n",
    "mse = mean_squared_error(y_test, predictions)\n",
    "rmse = np.sqrt(mse)\n",
    "\n",
    "print(f'mae is : {mae}')\n",
    "print(f'mse is : {mse}')\n",
    "print(f'rmse is : {rmse}')\n",
    "\n",
    "accuracy = r2_score(y_test, predictions)\n",
    "print(f'r2 score is : {accuracy}')"
   ]
  },
  {
   "cell_type": "code",
   "execution_count": 193,
   "id": "75d058f9",
   "metadata": {},
   "outputs": [],
   "source": [
    "# this gives us much better results at 85.24% accuracy, so far our best model\n",
    "# now lets try random forest regressor"
   ]
  },
  {
   "cell_type": "code",
   "execution_count": 194,
   "id": "960bbdd0",
   "metadata": {},
   "outputs": [
    {
     "name": "stdout",
     "output_type": "stream",
     "text": [
      "mae is : 18362.039311806915\n",
      "mse is : 982353961.084802\n",
      "rmse is : 31342.526399204038\n",
      "r2 score is : 0.8719280074210751\n"
     ]
    }
   ],
   "source": [
    "from sklearn.ensemble import RandomForestRegressor\n",
    "random_forest = RandomForestRegressor(n_estimators=100)\n",
    "random_forest.fit(X_train, y_train)\n",
    "predictions = random_forest.predict(X_test)\n",
    "\n",
    "mae = mean_absolute_error(y_test, predictions)\n",
    "mse = mean_squared_error(y_test, predictions)\n",
    "rmse = np.sqrt(mse)\n",
    "\n",
    "print(f'mae is : {mae}')\n",
    "print(f'mse is : {mse}')\n",
    "print(f'rmse is : {rmse}')\n",
    "\n",
    "accuracy = r2_score(y_test, predictions)\n",
    "print(f'r2 score is : {accuracy}')"
   ]
  },
  {
   "cell_type": "code",
   "execution_count": 195,
   "id": "414b518e",
   "metadata": {},
   "outputs": [],
   "source": [
    "# this gave us an even better result, at 87.19% accuracy, so far our best model \n",
    "# now lets try xgboost regressor"
   ]
  },
  {
   "cell_type": "code",
   "execution_count": 198,
   "id": "b75d6df5",
   "metadata": {},
   "outputs": [
    {
     "name": "stdout",
     "output_type": "stream",
     "text": [
      "mae is : 17439.918396832192\n",
      "mse is : 716579004.5214689\n",
      "rmse is : 26768.993341578403\n",
      "r2 score is : 0.9065777666861116\n"
     ]
    }
   ],
   "source": [
    "from xgboost import XGBRegressor\n",
    "xgb = XGBRegressor(n_estimators=1000, learning_rate=0.01)\n",
    "xgb.fit(X_train, y_train)\n",
    "predictions = xgb.predict(X_test)\n",
    "\n",
    "mae = mean_absolute_error(y_test, predictions)\n",
    "mse = mean_squared_error(y_test, predictions)\n",
    "rmse = np.sqrt(mse)\n",
    "\n",
    "print(f'mae is : {mae}')\n",
    "print(f'mse is : {mse}')\n",
    "print(f'rmse is : {rmse}')\n",
    "\n",
    "accuracy = r2_score(y_test, predictions)\n",
    "print(f'r2 score is : {accuracy}')"
   ]
  },
  {
   "cell_type": "code",
   "execution_count": 199,
   "id": "b80f9bc0",
   "metadata": {},
   "outputs": [],
   "source": [
    "# this is our best model now, at 90.65% accuracy\n",
    "# now lets try polynomial regression with degree 2"
   ]
  },
  {
   "cell_type": "code",
   "execution_count": 203,
   "id": "48d12611",
   "metadata": {},
   "outputs": [],
   "source": [
    "from sklearn.preprocessing import PolynomialFeatures\n",
    "poly_reg = PolynomialFeatures(degree = 2)\n",
    "X_train_2d = poly_reg.fit_transform(X_train)\n",
    "X_test_2d = poly_reg.transform(X_test)\n",
    "\n",
    "lin_reg = LinearRegression()\n",
    "lin_reg.fit(X_train_2d, y_train)\n",
    "predictions = lin_reg.predict(X_test_2d)"
   ]
  },
  {
   "cell_type": "code",
   "execution_count": 204,
   "id": "b4cb4f18",
   "metadata": {},
   "outputs": [
    {
     "name": "stdout",
     "output_type": "stream",
     "text": [
      "mae is : 452089126851973.56\n",
      "mse is : 4.855994838073885e+30\n",
      "rmse is : 2203632192103275.0\n",
      "r2 score is : -6.330884380802213e+20\n"
     ]
    }
   ],
   "source": [
    "mae = mean_absolute_error(y_test, predictions)\n",
    "mse = mean_squared_error(y_test, predictions)\n",
    "rmse = np.sqrt(mse)\n",
    "\n",
    "print(f'mae is : {mae}')\n",
    "print(f'mse is : {mse}')\n",
    "print(f'rmse is : {rmse}')\n",
    "\n",
    "accuracy = r2_score(y_test, predictions)\n",
    "print(f'r2 score is : {accuracy}')"
   ]
  },
  {
   "cell_type": "code",
   "execution_count": 205,
   "id": "2947bfe9",
   "metadata": {},
   "outputs": [],
   "source": [
    "# hence the best model we have obtained was through xgboost regressor, with 90.65% accuracy "
   ]
  },
  {
   "cell_type": "code",
   "execution_count": null,
   "id": "59eb0cbe",
   "metadata": {},
   "outputs": [],
   "source": []
  }
 ],
 "metadata": {
  "kernelspec": {
   "display_name": "Python 3 (ipykernel)",
   "language": "python",
   "name": "python3"
  },
  "language_info": {
   "codemirror_mode": {
    "name": "ipython",
    "version": 3
   },
   "file_extension": ".py",
   "mimetype": "text/x-python",
   "name": "python",
   "nbconvert_exporter": "python",
   "pygments_lexer": "ipython3",
   "version": "3.9.7"
  }
 },
 "nbformat": 4,
 "nbformat_minor": 5
}
